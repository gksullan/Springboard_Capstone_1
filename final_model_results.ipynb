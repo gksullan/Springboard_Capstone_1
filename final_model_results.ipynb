{
 "cells": [
  {
   "cell_type": "code",
   "execution_count": 2,
   "metadata": {},
   "outputs": [],
   "source": [
    "import pandas as pd\n",
    "pd.options.display.max_columns=1000\n",
    "pd.options.display.width=200\n",
    "pd.options.display.min_rows=60\n",
    "import numpy as np\n",
    "\n",
    "import matplotlib.pyplot as plt\n",
    "from matplotlib.axes import Axes\n",
    "import seaborn as sns\n",
    "plt.style.use('bmh')\n",
    "\n",
    "from sklearn.model_selection import train_test_split\n",
    "from sklearn.metrics import accuracy_score, confusion_matrix, f1_score, precision_score, recall_score\n",
    "from sklearn.preprocessing import MinMaxScaler\n",
    "from sklearn.model_selection import cross_val_score, KFold, GridSearchCV, RandomizedSearchCV\n",
    "\n",
    "from datetime import datetime\n",
    "import xgboost as xgb\n",
    "from xgboost import XGBClassifier\n",
    "\n",
    "# import custom functions from hyperparamfuncs.py\n",
    "from hyperparamfuncs import *"
   ]
  },
  {
   "cell_type": "code",
   "execution_count": 27,
   "metadata": {},
   "outputs": [
    {
     "name": "stderr",
     "output_type": "stream",
     "text": [
      "/home/gksullan/anaconda3/lib/python3.7/site-packages/IPython/core/interactiveshell.py:3058: DtypeWarning: Columns (34,36) have mixed types. Specify dtype option on import or set low_memory=False.\n",
      "  interactivity=interactivity, compiler=compiler, result=result)\n",
      "/home/gksullan/Documents/Springboard/Capstone_Project_1/conflicting_geneticvariants/hyperparamfuncs.py:19: SettingWithCopyWarning: \n",
      "A value is trying to be set on a copy of a slice from a DataFrame\n",
      "\n",
      "See the caveats in the documentation: http://pandas.pydata.org/pandas-docs/stable/user_guide/indexing.html#returning-a-view-versus-a-copy\n",
      "  df.dropna(axis=1, inplace=True)\n"
     ]
    }
   ],
   "source": [
    "data = pd.read_csv('data/data_cleanednlp4.csv')\n",
    "data, labels = preprocess_data(data)\n",
    "feature_names = data.columns"
   ]
  },
  {
   "cell_type": "code",
   "execution_count": 26,
   "metadata": {},
   "outputs": [
    {
     "data": {
      "text/html": [
       "<div>\n",
       "<style scoped>\n",
       "    .dataframe tbody tr th:only-of-type {\n",
       "        vertical-align: middle;\n",
       "    }\n",
       "\n",
       "    .dataframe tbody tr th {\n",
       "        vertical-align: top;\n",
       "    }\n",
       "\n",
       "    .dataframe thead th {\n",
       "        text-align: right;\n",
       "    }\n",
       "</style>\n",
       "<table border=\"1\" class=\"dataframe\">\n",
       "  <thead>\n",
       "    <tr style=\"text-align: right;\">\n",
       "      <th></th>\n",
       "      <th>test_size</th>\n",
       "      <th>random_state</th>\n",
       "      <th>data_size</th>\n",
       "      <th>scaling</th>\n",
       "      <th>filename</th>\n",
       "      <th>model</th>\n",
       "      <th>class_weight</th>\n",
       "      <th>test_score</th>\n",
       "      <th>train_score</th>\n",
       "      <th>tn</th>\n",
       "      <th>fp</th>\n",
       "      <th>fn</th>\n",
       "      <th>tp</th>\n",
       "      <th>f1_score</th>\n",
       "      <th>precision</th>\n",
       "      <th>recall</th>\n",
       "      <th>feature_importances</th>\n",
       "      <th>min_samples_leaf</th>\n",
       "      <th>max_features</th>\n",
       "      <th>max_depth</th>\n",
       "      <th>criterion</th>\n",
       "      <th>n_estimators</th>\n",
       "      <th>min_samples_split</th>\n",
       "      <th>learning_rate</th>\n",
       "      <th>gamma</th>\n",
       "      <th>colsample_bytree</th>\n",
       "    </tr>\n",
       "  </thead>\n",
       "  <tbody>\n",
       "    <tr>\n",
       "      <th>0</th>\n",
       "      <td>0.05</td>\n",
       "      <td>0</td>\n",
       "      <td>(65188, 4)</td>\n",
       "      <td>None</td>\n",
       "      <td>data/clinvar_conflicting.csv</td>\n",
       "      <td>&lt;class 'sklearn.linear_model.logistic.Logistic...</td>\n",
       "      <td>None</td>\n",
       "      <td>0.742945</td>\n",
       "      <td>0.748159</td>\n",
       "      <td>2422</td>\n",
       "      <td>0</td>\n",
       "      <td>838</td>\n",
       "      <td>0</td>\n",
       "      <td>0.000000</td>\n",
       "      <td>0.000000</td>\n",
       "      <td>0.000000</td>\n",
       "      <td>[[-9.233498049854785e-09, -8.542404895192725e-...</td>\n",
       "      <td>NaN</td>\n",
       "      <td>NaN</td>\n",
       "      <td>NaN</td>\n",
       "      <td>NaN</td>\n",
       "      <td>NaN</td>\n",
       "      <td>NaN</td>\n",
       "      <td>NaN</td>\n",
       "      <td>NaN</td>\n",
       "      <td>NaN</td>\n",
       "    </tr>\n",
       "    <tr>\n",
       "      <th>1</th>\n",
       "      <td>0.05</td>\n",
       "      <td>0</td>\n",
       "      <td>(65188, 4)</td>\n",
       "      <td>None</td>\n",
       "      <td>data/clinvar_conflicting.csv</td>\n",
       "      <td>&lt;class 'sklearn.linear_model.logistic.Logistic...</td>\n",
       "      <td>balanced</td>\n",
       "      <td>0.257055</td>\n",
       "      <td>0.251841</td>\n",
       "      <td>0</td>\n",
       "      <td>2422</td>\n",
       "      <td>0</td>\n",
       "      <td>838</td>\n",
       "      <td>0.408980</td>\n",
       "      <td>0.257055</td>\n",
       "      <td>1.000000</td>\n",
       "      <td>[[1.7341144526616175e-10, -3.476104502147056e-...</td>\n",
       "      <td>NaN</td>\n",
       "      <td>NaN</td>\n",
       "      <td>NaN</td>\n",
       "      <td>NaN</td>\n",
       "      <td>NaN</td>\n",
       "      <td>NaN</td>\n",
       "      <td>NaN</td>\n",
       "      <td>NaN</td>\n",
       "      <td>NaN</td>\n",
       "    </tr>\n",
       "    <tr>\n",
       "      <th>2</th>\n",
       "      <td>0.05</td>\n",
       "      <td>0</td>\n",
       "      <td>(65188, 4)</td>\n",
       "      <td>MinMax</td>\n",
       "      <td>data/clinvar_conflicting.csv</td>\n",
       "      <td>&lt;class 'sklearn.linear_model.logistic.Logistic...</td>\n",
       "      <td>balanced</td>\n",
       "      <td>0.395399</td>\n",
       "      <td>0.393457</td>\n",
       "      <td>512</td>\n",
       "      <td>1910</td>\n",
       "      <td>61</td>\n",
       "      <td>777</td>\n",
       "      <td>0.440851</td>\n",
       "      <td>0.289170</td>\n",
       "      <td>0.927208</td>\n",
       "      <td>[[0.13284429181162538, -5.064108331797677, -0....</td>\n",
       "      <td>NaN</td>\n",
       "      <td>NaN</td>\n",
       "      <td>NaN</td>\n",
       "      <td>NaN</td>\n",
       "      <td>NaN</td>\n",
       "      <td>NaN</td>\n",
       "      <td>NaN</td>\n",
       "      <td>NaN</td>\n",
       "      <td>NaN</td>\n",
       "    </tr>\n",
       "    <tr>\n",
       "      <th>3</th>\n",
       "      <td>0.05</td>\n",
       "      <td>0</td>\n",
       "      <td>(65188, 53)</td>\n",
       "      <td>None</td>\n",
       "      <td>data/data_cleaned4.csv</td>\n",
       "      <td>&lt;class 'sklearn.linear_model.logistic.Logistic...</td>\n",
       "      <td>balanced</td>\n",
       "      <td>0.257055</td>\n",
       "      <td>0.251841</td>\n",
       "      <td>0</td>\n",
       "      <td>2422</td>\n",
       "      <td>0</td>\n",
       "      <td>838</td>\n",
       "      <td>0.408980</td>\n",
       "      <td>0.257055</td>\n",
       "      <td>1.000000</td>\n",
       "      <td>[[1.7341144657191668e-10, -3.4762990112364325e...</td>\n",
       "      <td>NaN</td>\n",
       "      <td>NaN</td>\n",
       "      <td>NaN</td>\n",
       "      <td>NaN</td>\n",
       "      <td>NaN</td>\n",
       "      <td>NaN</td>\n",
       "      <td>NaN</td>\n",
       "      <td>NaN</td>\n",
       "      <td>NaN</td>\n",
       "    </tr>\n",
       "    <tr>\n",
       "      <th>4</th>\n",
       "      <td>0.05</td>\n",
       "      <td>0</td>\n",
       "      <td>(65188, 53)</td>\n",
       "      <td>MinMax</td>\n",
       "      <td>data/data_cleaned4.csv</td>\n",
       "      <td>&lt;class 'sklearn.linear_model.logistic.Logistic...</td>\n",
       "      <td>balanced</td>\n",
       "      <td>0.515951</td>\n",
       "      <td>0.528598</td>\n",
       "      <td>1072</td>\n",
       "      <td>1350</td>\n",
       "      <td>228</td>\n",
       "      <td>610</td>\n",
       "      <td>0.436026</td>\n",
       "      <td>0.311224</td>\n",
       "      <td>0.727924</td>\n",
       "      <td>[[0.027245693225715493, -5.70248924868861, -0....</td>\n",
       "      <td>NaN</td>\n",
       "      <td>NaN</td>\n",
       "      <td>NaN</td>\n",
       "      <td>NaN</td>\n",
       "      <td>NaN</td>\n",
       "      <td>NaN</td>\n",
       "      <td>NaN</td>\n",
       "      <td>NaN</td>\n",
       "      <td>NaN</td>\n",
       "    </tr>\n",
       "  </tbody>\n",
       "</table>\n",
       "</div>"
      ],
      "text/plain": [
       "   test_size  random_state    data_size scaling                      filename                                              model class_weight  test_score  train_score    tn    fp   fn   tp  \\\n",
       "0       0.05             0   (65188, 4)    None  data/clinvar_conflicting.csv  <class 'sklearn.linear_model.logistic.Logistic...         None    0.742945     0.748159  2422     0  838    0   \n",
       "1       0.05             0   (65188, 4)    None  data/clinvar_conflicting.csv  <class 'sklearn.linear_model.logistic.Logistic...     balanced    0.257055     0.251841     0  2422    0  838   \n",
       "2       0.05             0   (65188, 4)  MinMax  data/clinvar_conflicting.csv  <class 'sklearn.linear_model.logistic.Logistic...     balanced    0.395399     0.393457   512  1910   61  777   \n",
       "3       0.05             0  (65188, 53)    None        data/data_cleaned4.csv  <class 'sklearn.linear_model.logistic.Logistic...     balanced    0.257055     0.251841     0  2422    0  838   \n",
       "4       0.05             0  (65188, 53)  MinMax        data/data_cleaned4.csv  <class 'sklearn.linear_model.logistic.Logistic...     balanced    0.515951     0.528598  1072  1350  228  610   \n",
       "\n",
       "   f1_score  precision    recall                                feature_importances  min_samples_leaf  max_features  max_depth criterion  n_estimators  min_samples_split  learning_rate  gamma  \\\n",
       "0  0.000000   0.000000  0.000000  [[-9.233498049854785e-09, -8.542404895192725e-...               NaN           NaN        NaN       NaN           NaN                NaN            NaN    NaN   \n",
       "1  0.408980   0.257055  1.000000  [[1.7341144526616175e-10, -3.476104502147056e-...               NaN           NaN        NaN       NaN           NaN                NaN            NaN    NaN   \n",
       "2  0.440851   0.289170  0.927208  [[0.13284429181162538, -5.064108331797677, -0....               NaN           NaN        NaN       NaN           NaN                NaN            NaN    NaN   \n",
       "3  0.408980   0.257055  1.000000  [[1.7341144657191668e-10, -3.4762990112364325e...               NaN           NaN        NaN       NaN           NaN                NaN            NaN    NaN   \n",
       "4  0.436026   0.311224  0.727924  [[0.027245693225715493, -5.70248924868861, -0....               NaN           NaN        NaN       NaN           NaN                NaN            NaN    NaN   \n",
       "\n",
       "   colsample_bytree  \n",
       "0               NaN  \n",
       "1               NaN  \n",
       "2               NaN  \n",
       "3               NaN  \n",
       "4               NaN  "
      ]
     },
     "execution_count": 26,
     "metadata": {},
     "output_type": "execute_result"
    }
   ],
   "source": [
    "files = ['hyperparameter_tables/hyperparameter_table20200309_14:18:09.pkl', \n",
    "         'hyperparameter_tables/hyperparameter_table20200311_12:10:00.pkl', \n",
    "         'hyperparameter_tables/hyperparameter_table20200311_13:40:02.pkl', \n",
    "         'hyperparameter_tables/hyperparameter_table20200312_22:45:20.pkl'\n",
    "        ]\n",
    "dataframes = [pd.read_pickle(f) for f in files]\n",
    "result = pd.concat(dataframes, sort=False)\n",
    "result.head()"
   ]
  },
  {
   "cell_type": "code",
   "execution_count": 5,
   "metadata": {},
   "outputs": [
    {
     "data": {
      "image/png": "[encoded data removed]",
      "text/plain": [
       "<Figure size 432x288 with 1 Axes>"
      ]
     },
     "metadata": {
      "needs_background": "light"
     },
     "output_type": "display_data"
    }
   ],
   "source": [
    "_ = result.plot('train_score','test_score', kind='scatter')\n",
    "_ = plt.xlim(0.2,1)\n",
    "_ = plt.ylim(0.2,1)\n",
    "_ = plt.plot([0,1], [0,1], ls=\"--\", alpha=0.5, c='gray')"
   ]
  },
  {
   "cell_type": "code",
   "execution_count": 6,
   "metadata": {},
   "outputs": [
    {
     "data": {
      "image/png": "[encoded data removed]",
      "text/plain": [
       "<Figure size 432x288 with 1 Axes>"
      ]
     },
     "metadata": {
      "needs_background": "light"
     },
     "output_type": "display_data"
    }
   ],
   "source": [
    "_ = result.plot('recall', 'precision', kind='scatter')\n",
    "_ = plt.xlim(0,1.1)\n",
    "_ = plt.ylim(0,1.1)"
   ]
  },
  {
   "cell_type": "code",
   "execution_count": 7,
   "metadata": {},
   "outputs": [
    {
     "data": {
      "image/png": "[encoded data removed]",
      "text/plain": [
       "<Figure size 432x288 with 1 Axes>"
      ]
     },
     "metadata": {
      "needs_background": "light"
     },
     "output_type": "display_data"
    }
   ],
   "source": [
    "_ = result['f1_score'].plot(kind='box')"
   ]
  },
  {
   "cell_type": "code",
   "execution_count": 8,
   "metadata": {},
   "outputs": [
    {
     "data": {
      "text/html": [
       "<div>\n",
       "<style scoped>\n",
       "    .dataframe tbody tr th:only-of-type {\n",
       "        vertical-align: middle;\n",
       "    }\n",
       "\n",
       "    .dataframe tbody tr th {\n",
       "        vertical-align: top;\n",
       "    }\n",
       "\n",
       "    .dataframe thead th {\n",
       "        text-align: right;\n",
       "    }\n",
       "</style>\n",
       "<table border=\"1\" class=\"dataframe\">\n",
       "  <thead>\n",
       "    <tr style=\"text-align: right;\">\n",
       "      <th></th>\n",
       "      <th>test_size</th>\n",
       "      <th>random_state</th>\n",
       "      <th>data_size</th>\n",
       "      <th>scaling</th>\n",
       "      <th>filename</th>\n",
       "      <th>model</th>\n",
       "      <th>class_weight</th>\n",
       "      <th>test_score</th>\n",
       "      <th>train_score</th>\n",
       "      <th>tn</th>\n",
       "      <th>fp</th>\n",
       "      <th>fn</th>\n",
       "      <th>tp</th>\n",
       "      <th>f1_score</th>\n",
       "      <th>precision</th>\n",
       "      <th>recall</th>\n",
       "      <th>feature_importances</th>\n",
       "      <th>min_samples_leaf</th>\n",
       "      <th>max_features</th>\n",
       "      <th>max_depth</th>\n",
       "      <th>criterion</th>\n",
       "      <th>n_estimators</th>\n",
       "      <th>min_samples_split</th>\n",
       "      <th>learning_rate</th>\n",
       "      <th>gamma</th>\n",
       "      <th>colsample_bytree</th>\n",
       "    </tr>\n",
       "  </thead>\n",
       "  <tbody>\n",
       "    <tr>\n",
       "      <th>0</th>\n",
       "      <td>0.05</td>\n",
       "      <td>0</td>\n",
       "      <td>(65188, 4)</td>\n",
       "      <td>None</td>\n",
       "      <td>data/clinvar_conflicting.csv</td>\n",
       "      <td>&lt;class 'sklearn.linear_model.logistic.Logistic...</td>\n",
       "      <td>None</td>\n",
       "      <td>0.742945</td>\n",
       "      <td>0.748159</td>\n",
       "      <td>2422</td>\n",
       "      <td>0</td>\n",
       "      <td>838</td>\n",
       "      <td>0</td>\n",
       "      <td>0.000000</td>\n",
       "      <td>0.000000</td>\n",
       "      <td>0.000000</td>\n",
       "      <td>[[-9.233498049854785e-09, -8.542404895192725e-...</td>\n",
       "      <td>NaN</td>\n",
       "      <td>NaN</td>\n",
       "      <td>NaN</td>\n",
       "      <td>NaN</td>\n",
       "      <td>NaN</td>\n",
       "      <td>NaN</td>\n",
       "      <td>NaN</td>\n",
       "      <td>NaN</td>\n",
       "      <td>NaN</td>\n",
       "    </tr>\n",
       "    <tr>\n",
       "      <th>1</th>\n",
       "      <td>0.05</td>\n",
       "      <td>0</td>\n",
       "      <td>(65188, 4)</td>\n",
       "      <td>None</td>\n",
       "      <td>data/clinvar_conflicting.csv</td>\n",
       "      <td>&lt;class 'sklearn.linear_model.logistic.Logistic...</td>\n",
       "      <td>balanced</td>\n",
       "      <td>0.257055</td>\n",
       "      <td>0.251841</td>\n",
       "      <td>0</td>\n",
       "      <td>2422</td>\n",
       "      <td>0</td>\n",
       "      <td>838</td>\n",
       "      <td>0.408980</td>\n",
       "      <td>0.257055</td>\n",
       "      <td>1.000000</td>\n",
       "      <td>[[1.7341144526616175e-10, -3.476104502147056e-...</td>\n",
       "      <td>NaN</td>\n",
       "      <td>NaN</td>\n",
       "      <td>NaN</td>\n",
       "      <td>NaN</td>\n",
       "      <td>NaN</td>\n",
       "      <td>NaN</td>\n",
       "      <td>NaN</td>\n",
       "      <td>NaN</td>\n",
       "      <td>NaN</td>\n",
       "    </tr>\n",
       "    <tr>\n",
       "      <th>2</th>\n",
       "      <td>0.05</td>\n",
       "      <td>0</td>\n",
       "      <td>(65188, 4)</td>\n",
       "      <td>MinMax</td>\n",
       "      <td>data/clinvar_conflicting.csv</td>\n",
       "      <td>&lt;class 'sklearn.linear_model.logistic.Logistic...</td>\n",
       "      <td>balanced</td>\n",
       "      <td>0.395399</td>\n",
       "      <td>0.393457</td>\n",
       "      <td>512</td>\n",
       "      <td>1910</td>\n",
       "      <td>61</td>\n",
       "      <td>777</td>\n",
       "      <td>0.440851</td>\n",
       "      <td>0.289170</td>\n",
       "      <td>0.927208</td>\n",
       "      <td>[[0.13284429181162538, -5.064108331797677, -0....</td>\n",
       "      <td>NaN</td>\n",
       "      <td>NaN</td>\n",
       "      <td>NaN</td>\n",
       "      <td>NaN</td>\n",
       "      <td>NaN</td>\n",
       "      <td>NaN</td>\n",
       "      <td>NaN</td>\n",
       "      <td>NaN</td>\n",
       "      <td>NaN</td>\n",
       "    </tr>\n",
       "    <tr>\n",
       "      <th>3</th>\n",
       "      <td>0.05</td>\n",
       "      <td>0</td>\n",
       "      <td>(65188, 53)</td>\n",
       "      <td>None</td>\n",
       "      <td>data/data_cleaned4.csv</td>\n",
       "      <td>&lt;class 'sklearn.linear_model.logistic.Logistic...</td>\n",
       "      <td>balanced</td>\n",
       "      <td>0.257055</td>\n",
       "      <td>0.251841</td>\n",
       "      <td>0</td>\n",
       "      <td>2422</td>\n",
       "      <td>0</td>\n",
       "      <td>838</td>\n",
       "      <td>0.408980</td>\n",
       "      <td>0.257055</td>\n",
       "      <td>1.000000</td>\n",
       "      <td>[[1.7341144657191668e-10, -3.4762990112364325e...</td>\n",
       "      <td>NaN</td>\n",
       "      <td>NaN</td>\n",
       "      <td>NaN</td>\n",
       "      <td>NaN</td>\n",
       "      <td>NaN</td>\n",
       "      <td>NaN</td>\n",
       "      <td>NaN</td>\n",
       "      <td>NaN</td>\n",
       "      <td>NaN</td>\n",
       "    </tr>\n",
       "    <tr>\n",
       "      <th>4</th>\n",
       "      <td>0.05</td>\n",
       "      <td>0</td>\n",
       "      <td>(65188, 53)</td>\n",
       "      <td>MinMax</td>\n",
       "      <td>data/data_cleaned4.csv</td>\n",
       "      <td>&lt;class 'sklearn.linear_model.logistic.Logistic...</td>\n",
       "      <td>balanced</td>\n",
       "      <td>0.515951</td>\n",
       "      <td>0.528598</td>\n",
       "      <td>1072</td>\n",
       "      <td>1350</td>\n",
       "      <td>228</td>\n",
       "      <td>610</td>\n",
       "      <td>0.436026</td>\n",
       "      <td>0.311224</td>\n",
       "      <td>0.727924</td>\n",
       "      <td>[[0.027245693225715493, -5.70248924868861, -0....</td>\n",
       "      <td>NaN</td>\n",
       "      <td>NaN</td>\n",
       "      <td>NaN</td>\n",
       "      <td>NaN</td>\n",
       "      <td>NaN</td>\n",
       "      <td>NaN</td>\n",
       "      <td>NaN</td>\n",
       "      <td>NaN</td>\n",
       "      <td>NaN</td>\n",
       "    </tr>\n",
       "  </tbody>\n",
       "</table>\n",
       "</div>"
      ],
      "text/plain": [
       "   test_size  random_state    data_size scaling                      filename                                              model class_weight  test_score  train_score    tn    fp   fn   tp  \\\n",
       "0       0.05             0   (65188, 4)    None  data/clinvar_conflicting.csv  <class 'sklearn.linear_model.logistic.Logistic...         None    0.742945     0.748159  2422     0  838    0   \n",
       "1       0.05             0   (65188, 4)    None  data/clinvar_conflicting.csv  <class 'sklearn.linear_model.logistic.Logistic...     balanced    0.257055     0.251841     0  2422    0  838   \n",
       "2       0.05             0   (65188, 4)  MinMax  data/clinvar_conflicting.csv  <class 'sklearn.linear_model.logistic.Logistic...     balanced    0.395399     0.393457   512  1910   61  777   \n",
       "3       0.05             0  (65188, 53)    None        data/data_cleaned4.csv  <class 'sklearn.linear_model.logistic.Logistic...     balanced    0.257055     0.251841     0  2422    0  838   \n",
       "4       0.05             0  (65188, 53)  MinMax        data/data_cleaned4.csv  <class 'sklearn.linear_model.logistic.Logistic...     balanced    0.515951     0.528598  1072  1350  228  610   \n",
       "\n",
       "   f1_score  precision    recall                                feature_importances  min_samples_leaf  max_features  max_depth criterion  n_estimators  min_samples_split  learning_rate  gamma  \\\n",
       "0  0.000000   0.000000  0.000000  [[-9.233498049854785e-09, -8.542404895192725e-...               NaN           NaN        NaN       NaN           NaN                NaN            NaN    NaN   \n",
       "1  0.408980   0.257055  1.000000  [[1.7341144526616175e-10, -3.476104502147056e-...               NaN           NaN        NaN       NaN           NaN                NaN            NaN    NaN   \n",
       "2  0.440851   0.289170  0.927208  [[0.13284429181162538, -5.064108331797677, -0....               NaN           NaN        NaN       NaN           NaN                NaN            NaN    NaN   \n",
       "3  0.408980   0.257055  1.000000  [[1.7341144657191668e-10, -3.4762990112364325e...               NaN           NaN        NaN       NaN           NaN                NaN            NaN    NaN   \n",
       "4  0.436026   0.311224  0.727924  [[0.027245693225715493, -5.70248924868861, -0....               NaN           NaN        NaN       NaN           NaN                NaN            NaN    NaN   \n",
       "\n",
       "   colsample_bytree  \n",
       "0               NaN  \n",
       "1               NaN  \n",
       "2               NaN  \n",
       "3               NaN  \n",
       "4               NaN  "
      ]
     },
     "execution_count": 8,
     "metadata": {},
     "output_type": "execute_result"
    }
   ],
   "source": [
    "result.reset_index(drop=True, inplace=True)\n",
    "result.head()"
   ]
  },
  {
   "cell_type": "code",
   "execution_count": 9,
   "metadata": {},
   "outputs": [],
   "source": [
    "# Get the best performing models from each type of classifier\n",
    "best_models = result.iloc[[5, 9, 15, 19]]"
   ]
  },
  {
   "cell_type": "code",
   "execution_count": 10,
   "metadata": {},
   "outputs": [
    {
     "data": {
      "text/html": [
       "<div>\n",
       "<style scoped>\n",
       "    .dataframe tbody tr th:only-of-type {\n",
       "        vertical-align: middle;\n",
       "    }\n",
       "\n",
       "    .dataframe tbody tr th {\n",
       "        vertical-align: top;\n",
       "    }\n",
       "\n",
       "    .dataframe thead th {\n",
       "        text-align: right;\n",
       "    }\n",
       "</style>\n",
       "<table border=\"1\" class=\"dataframe\">\n",
       "  <thead>\n",
       "    <tr style=\"text-align: right;\">\n",
       "      <th></th>\n",
       "      <th>test_size</th>\n",
       "      <th>random_state</th>\n",
       "      <th>data_size</th>\n",
       "      <th>scaling</th>\n",
       "      <th>filename</th>\n",
       "      <th>model</th>\n",
       "      <th>class_weight</th>\n",
       "      <th>test_score</th>\n",
       "      <th>train_score</th>\n",
       "      <th>tn</th>\n",
       "      <th>fp</th>\n",
       "      <th>fn</th>\n",
       "      <th>tp</th>\n",
       "      <th>f1_score</th>\n",
       "      <th>precision</th>\n",
       "      <th>recall</th>\n",
       "      <th>feature_importances</th>\n",
       "      <th>min_samples_leaf</th>\n",
       "      <th>max_features</th>\n",
       "      <th>max_depth</th>\n",
       "      <th>criterion</th>\n",
       "      <th>n_estimators</th>\n",
       "      <th>min_samples_split</th>\n",
       "      <th>learning_rate</th>\n",
       "      <th>gamma</th>\n",
       "      <th>colsample_bytree</th>\n",
       "    </tr>\n",
       "  </thead>\n",
       "  <tbody>\n",
       "    <tr>\n",
       "      <th>5</th>\n",
       "      <td>0.05</td>\n",
       "      <td>0</td>\n",
       "      <td>(65188, 61)</td>\n",
       "      <td>MinMax</td>\n",
       "      <td>data/data_cleanednlp4.csv</td>\n",
       "      <td>&lt;class 'sklearn.linear_model.logistic.Logistic...</td>\n",
       "      <td>balanced</td>\n",
       "      <td>0.528221</td>\n",
       "      <td>0.536106</td>\n",
       "      <td>1120</td>\n",
       "      <td>1302</td>\n",
       "      <td>236</td>\n",
       "      <td>602</td>\n",
       "      <td>0.439096</td>\n",
       "      <td>0.316176</td>\n",
       "      <td>0.718377</td>\n",
       "      <td>[[0.026377656517386078, -5.7429100422809505, -...</td>\n",
       "      <td>NaN</td>\n",
       "      <td>NaN</td>\n",
       "      <td>NaN</td>\n",
       "      <td>NaN</td>\n",
       "      <td>NaN</td>\n",
       "      <td>NaN</td>\n",
       "      <td>NaN</td>\n",
       "      <td>NaN</td>\n",
       "      <td>NaN</td>\n",
       "    </tr>\n",
       "    <tr>\n",
       "      <th>9</th>\n",
       "      <td>0.05</td>\n",
       "      <td>0</td>\n",
       "      <td>(65188, 61)</td>\n",
       "      <td>None</td>\n",
       "      <td>data/data_cleanednlp4.csv</td>\n",
       "      <td>&lt;class 'sklearn.tree.tree.DecisionTreeClassifi...</td>\n",
       "      <td>balanced</td>\n",
       "      <td>0.669018</td>\n",
       "      <td>0.689155</td>\n",
       "      <td>1587</td>\n",
       "      <td>835</td>\n",
       "      <td>244</td>\n",
       "      <td>594</td>\n",
       "      <td>0.524041</td>\n",
       "      <td>0.415675</td>\n",
       "      <td>0.708831</td>\n",
       "      <td>[0.040665012844616294, 0.042371603892800924, 0...</td>\n",
       "      <td>8.0</td>\n",
       "      <td>NaN</td>\n",
       "      <td>10.0</td>\n",
       "      <td>gini</td>\n",
       "      <td>NaN</td>\n",
       "      <td>NaN</td>\n",
       "      <td>NaN</td>\n",
       "      <td>NaN</td>\n",
       "      <td>NaN</td>\n",
       "    </tr>\n",
       "    <tr>\n",
       "      <th>15</th>\n",
       "      <td>0.05</td>\n",
       "      <td>0</td>\n",
       "      <td>(65188, 61)</td>\n",
       "      <td>None</td>\n",
       "      <td>data/data_cleanednlp4.csv</td>\n",
       "      <td>&lt;class 'sklearn.ensemble.forest.RandomForestCl...</td>\n",
       "      <td>balanced</td>\n",
       "      <td>0.725153</td>\n",
       "      <td>0.825782</td>\n",
       "      <td>1849</td>\n",
       "      <td>573</td>\n",
       "      <td>323</td>\n",
       "      <td>515</td>\n",
       "      <td>0.534787</td>\n",
       "      <td>0.473346</td>\n",
       "      <td>0.614558</td>\n",
       "      <td>[0.10645269003065405, 0.037197944082905, 0.200...</td>\n",
       "      <td>1.0</td>\n",
       "      <td>NaN</td>\n",
       "      <td>15.0</td>\n",
       "      <td>NaN</td>\n",
       "      <td>500.0</td>\n",
       "      <td>6.0</td>\n",
       "      <td>NaN</td>\n",
       "      <td>NaN</td>\n",
       "      <td>NaN</td>\n",
       "    </tr>\n",
       "    <tr>\n",
       "      <th>19</th>\n",
       "      <td>0.05</td>\n",
       "      <td>0</td>\n",
       "      <td>(65188, 61)</td>\n",
       "      <td>None</td>\n",
       "      <td>data/data_cleanednlp4.csv</td>\n",
       "      <td>&lt;class 'xgboost.sklearn.XGBClassifier'&gt;</td>\n",
       "      <td>NaN</td>\n",
       "      <td>0.769325</td>\n",
       "      <td>0.926221</td>\n",
       "      <td>2203</td>\n",
       "      <td>219</td>\n",
       "      <td>533</td>\n",
       "      <td>305</td>\n",
       "      <td>0.447871</td>\n",
       "      <td>0.582061</td>\n",
       "      <td>0.363962</td>\n",
       "      <td>[0.015140971, 0.018364254, 0.024925346, 0.0488...</td>\n",
       "      <td>NaN</td>\n",
       "      <td>NaN</td>\n",
       "      <td>7.0</td>\n",
       "      <td>NaN</td>\n",
       "      <td>500.0</td>\n",
       "      <td>NaN</td>\n",
       "      <td>0.25</td>\n",
       "      <td>0.4</td>\n",
       "      <td>0.9</td>\n",
       "    </tr>\n",
       "  </tbody>\n",
       "</table>\n",
       "</div>"
      ],
      "text/plain": [
       "    test_size  random_state    data_size scaling                   filename                                              model class_weight  test_score  train_score    tn    fp   fn   tp  f1_score  \\\n",
       "5        0.05             0  (65188, 61)  MinMax  data/data_cleanednlp4.csv  <class 'sklearn.linear_model.logistic.Logistic...     balanced    0.528221     0.536106  1120  1302  236  602  0.439096   \n",
       "9        0.05             0  (65188, 61)    None  data/data_cleanednlp4.csv  <class 'sklearn.tree.tree.DecisionTreeClassifi...     balanced    0.669018     0.689155  1587   835  244  594  0.524041   \n",
       "15       0.05             0  (65188, 61)    None  data/data_cleanednlp4.csv  <class 'sklearn.ensemble.forest.RandomForestCl...     balanced    0.725153     0.825782  1849   573  323  515  0.534787   \n",
       "19       0.05             0  (65188, 61)    None  data/data_cleanednlp4.csv            <class 'xgboost.sklearn.XGBClassifier'>          NaN    0.769325     0.926221  2203   219  533  305  0.447871   \n",
       "\n",
       "    precision    recall                                feature_importances  min_samples_leaf  max_features  max_depth criterion  n_estimators  min_samples_split  learning_rate  gamma  \\\n",
       "5    0.316176  0.718377  [[0.026377656517386078, -5.7429100422809505, -...               NaN           NaN        NaN       NaN           NaN                NaN            NaN    NaN   \n",
       "9    0.415675  0.708831  [0.040665012844616294, 0.042371603892800924, 0...               8.0           NaN       10.0      gini           NaN                NaN            NaN    NaN   \n",
       "15   0.473346  0.614558  [0.10645269003065405, 0.037197944082905, 0.200...               1.0           NaN       15.0       NaN         500.0                6.0            NaN    NaN   \n",
       "19   0.582061  0.363962  [0.015140971, 0.018364254, 0.024925346, 0.0488...               NaN           NaN        7.0       NaN         500.0                NaN           0.25    0.4   \n",
       "\n",
       "    colsample_bytree  \n",
       "5                NaN  \n",
       "9                NaN  \n",
       "15               NaN  \n",
       "19               0.9  "
      ]
     },
     "execution_count": 10,
     "metadata": {},
     "output_type": "execute_result"
    }
   ],
   "source": [
    "best_models.head()"
   ]
  },
  {
   "cell_type": "code",
   "execution_count": 29,
   "metadata": {},
   "outputs": [
    {
     "data": {
      "text/html": [
       "<div>\n",
       "<style scoped>\n",
       "    .dataframe tbody tr th:only-of-type {\n",
       "        vertical-align: middle;\n",
       "    }\n",
       "\n",
       "    .dataframe tbody tr th {\n",
       "        vertical-align: top;\n",
       "    }\n",
       "\n",
       "    .dataframe thead th {\n",
       "        text-align: right;\n",
       "    }\n",
       "</style>\n",
       "<table border=\"1\" class=\"dataframe\">\n",
       "  <thead>\n",
       "    <tr style=\"text-align: right;\">\n",
       "      <th></th>\n",
       "      <th>test_score</th>\n",
       "      <th>train_score</th>\n",
       "      <th>precision</th>\n",
       "      <th>recall</th>\n",
       "      <th>f1_score</th>\n",
       "    </tr>\n",
       "    <tr>\n",
       "      <th>classifier_name</th>\n",
       "      <th></th>\n",
       "      <th></th>\n",
       "      <th></th>\n",
       "      <th></th>\n",
       "      <th></th>\n",
       "    </tr>\n",
       "  </thead>\n",
       "  <tbody>\n",
       "    <tr>\n",
       "      <th>Logistic Regression</th>\n",
       "      <td>0.528221</td>\n",
       "      <td>0.536106</td>\n",
       "      <td>0.316176</td>\n",
       "      <td>0.718377</td>\n",
       "      <td>0.439096</td>\n",
       "    </tr>\n",
       "    <tr>\n",
       "      <th>Decision Tree</th>\n",
       "      <td>0.669018</td>\n",
       "      <td>0.689155</td>\n",
       "      <td>0.415675</td>\n",
       "      <td>0.708831</td>\n",
       "      <td>0.524041</td>\n",
       "    </tr>\n",
       "    <tr>\n",
       "      <th>Random Forest</th>\n",
       "      <td>0.725153</td>\n",
       "      <td>0.825782</td>\n",
       "      <td>0.473346</td>\n",
       "      <td>0.614558</td>\n",
       "      <td>0.534787</td>\n",
       "    </tr>\n",
       "    <tr>\n",
       "      <th>XGBoost</th>\n",
       "      <td>0.769325</td>\n",
       "      <td>0.926221</td>\n",
       "      <td>0.582061</td>\n",
       "      <td>0.363962</td>\n",
       "      <td>0.447871</td>\n",
       "    </tr>\n",
       "  </tbody>\n",
       "</table>\n",
       "</div>"
      ],
      "text/plain": [
       "                     test_score  train_score  precision    recall  f1_score\n",
       "classifier_name                                                            \n",
       "Logistic Regression    0.528221     0.536106   0.316176  0.718377  0.439096\n",
       "Decision Tree          0.669018     0.689155   0.415675  0.708831  0.524041\n",
       "Random Forest          0.725153     0.825782   0.473346  0.614558  0.534787\n",
       "XGBoost                0.769325     0.926221   0.582061  0.363962  0.447871"
      ]
     },
     "execution_count": 29,
     "metadata": {},
     "output_type": "execute_result"
    }
   ],
   "source": [
    "df3 = best_models[['test_score','train_score','precision','recall','f1_score']].reset_index(drop=True)\n",
    "df3['classifier_name'] = ['Logistic Regression','Decision Tree','Random Forest','XGBoost']\n",
    "df3.set_index('classifier_name', inplace=True)\n",
    "df3.head()"
   ]
  },
  {
   "cell_type": "code",
   "execution_count": 30,
   "metadata": {
    "scrolled": true
   },
   "outputs": [
    {
     "data": {
      "image/png": "[encoded data removed]",
      "text/plain": [
       "<Figure size 432x288 with 1 Axes>"
      ]
     },
     "metadata": {
      "needs_background": "light"
     },
     "output_type": "display_data"
    }
   ],
   "source": [
    "_ = df3['test_score'].plot(kind='bar', align='center')\n",
    "_ = plt.xticks(rotation=60, ha='right')\n",
    "_ = plt.ylabel('score')"
   ]
  },
  {
   "cell_type": "code",
   "execution_count": 36,
   "metadata": {},
   "outputs": [
    {
     "data": {
      "image/png": "[encoded data removed]",
      "text/plain": [
       "<Figure size 432x288 with 1 Axes>"
      ]
     },
     "metadata": {
      "needs_background": "light"
     },
     "output_type": "display_data"
    }
   ],
   "source": [
    "_ = df3[['f1_score', 'precision','recall']].plot(kind='bar', align='center', color=['darkred','steelblue','rebeccapurple'])\n",
    "_ = plt.xticks(rotation=60, ha='right')\n",
    "_ = plt.ylim(0,0.8)\n",
    "_ = plt.ylabel('score')"
   ]
  },
  {
   "cell_type": "markdown",
   "metadata": {},
   "source": [
    "- The `Random Forest` model has the best f1 score out of all of the models. \n",
    "- While `XGBoost` does not have the best f1 score, it offers the best precision with the lowest recall. This may be important in the case of our problem, where we are interested in identifying variants that are conflictingly classified (positive class) \n"
   ]
  },
  {
   "cell_type": "code",
   "execution_count": 14,
   "metadata": {},
   "outputs": [],
   "source": [
    "feat_import = best_models[['model', 'feature_importances']].reset_index(drop=True)"
   ]
  },
  {
   "cell_type": "code",
   "execution_count": 15,
   "metadata": {},
   "outputs": [
    {
     "data": {
      "text/html": [
       "<div>\n",
       "<style scoped>\n",
       "    .dataframe tbody tr th:only-of-type {\n",
       "        vertical-align: middle;\n",
       "    }\n",
       "\n",
       "    .dataframe tbody tr th {\n",
       "        vertical-align: top;\n",
       "    }\n",
       "\n",
       "    .dataframe thead th {\n",
       "        text-align: right;\n",
       "    }\n",
       "</style>\n",
       "<table border=\"1\" class=\"dataframe\">\n",
       "  <thead>\n",
       "    <tr style=\"text-align: right;\">\n",
       "      <th></th>\n",
       "      <th>model</th>\n",
       "      <th>feature_importances</th>\n",
       "    </tr>\n",
       "  </thead>\n",
       "  <tbody>\n",
       "    <tr>\n",
       "      <th>0</th>\n",
       "      <td>&lt;class 'sklearn.linear_model.logistic.Logistic...</td>\n",
       "      <td>[[0.026377656517386078, -5.7429100422809505, -...</td>\n",
       "    </tr>\n",
       "    <tr>\n",
       "      <th>1</th>\n",
       "      <td>&lt;class 'sklearn.tree.tree.DecisionTreeClassifi...</td>\n",
       "      <td>[0.040665012844616294, 0.042371603892800924, 0...</td>\n",
       "    </tr>\n",
       "    <tr>\n",
       "      <th>2</th>\n",
       "      <td>&lt;class 'sklearn.ensemble.forest.RandomForestCl...</td>\n",
       "      <td>[0.10645269003065405, 0.037197944082905, 0.200...</td>\n",
       "    </tr>\n",
       "    <tr>\n",
       "      <th>3</th>\n",
       "      <td>&lt;class 'xgboost.sklearn.XGBClassifier'&gt;</td>\n",
       "      <td>[0.015140971, 0.018364254, 0.024925346, 0.0488...</td>\n",
       "    </tr>\n",
       "  </tbody>\n",
       "</table>\n",
       "</div>"
      ],
      "text/plain": [
       "                                               model                                feature_importances\n",
       "0  <class 'sklearn.linear_model.logistic.Logistic...  [[0.026377656517386078, -5.7429100422809505, -...\n",
       "1  <class 'sklearn.tree.tree.DecisionTreeClassifi...  [0.040665012844616294, 0.042371603892800924, 0...\n",
       "2  <class 'sklearn.ensemble.forest.RandomForestCl...  [0.10645269003065405, 0.037197944082905, 0.200...\n",
       "3            <class 'xgboost.sklearn.XGBClassifier'>  [0.015140971, 0.018364254, 0.024925346, 0.0488..."
      ]
     },
     "execution_count": 15,
     "metadata": {},
     "output_type": "execute_result"
    }
   ],
   "source": [
    "feat_import.head()"
   ]
  },
  {
   "cell_type": "code",
   "execution_count": 16,
   "metadata": {},
   "outputs": [],
   "source": [
    "feature_names = list(feature_names)"
   ]
  },
  {
   "cell_type": "code",
   "execution_count": 17,
   "metadata": {},
   "outputs": [
    {
     "data": {
      "text/html": [
       "<div>\n",
       "<style scoped>\n",
       "    .dataframe tbody tr th:only-of-type {\n",
       "        vertical-align: middle;\n",
       "    }\n",
       "\n",
       "    .dataframe tbody tr th {\n",
       "        vertical-align: top;\n",
       "    }\n",
       "\n",
       "    .dataframe thead th {\n",
       "        text-align: right;\n",
       "    }\n",
       "</style>\n",
       "<table border=\"1\" class=\"dataframe\">\n",
       "  <thead>\n",
       "    <tr style=\"text-align: right;\">\n",
       "      <th></th>\n",
       "      <th>lr</th>\n",
       "      <th>dt</th>\n",
       "      <th>rf</th>\n",
       "      <th>xgb</th>\n",
       "    </tr>\n",
       "    <tr>\n",
       "      <th>feature_names</th>\n",
       "      <th></th>\n",
       "      <th></th>\n",
       "      <th></th>\n",
       "      <th></th>\n",
       "    </tr>\n",
       "  </thead>\n",
       "  <tbody>\n",
       "    <tr>\n",
       "      <th>POS</th>\n",
       "      <td>0.026378</td>\n",
       "      <td>0.040665</td>\n",
       "      <td>0.106453</td>\n",
       "      <td>0.015141</td>\n",
       "    </tr>\n",
       "    <tr>\n",
       "      <th>AF_ESP</th>\n",
       "      <td>-5.742910</td>\n",
       "      <td>0.042372</td>\n",
       "      <td>0.037198</td>\n",
       "      <td>0.018364</td>\n",
       "    </tr>\n",
       "    <tr>\n",
       "      <th>AF_EXAC</th>\n",
       "      <td>-0.773490</td>\n",
       "      <td>0.323234</td>\n",
       "      <td>0.200217</td>\n",
       "      <td>0.024925</td>\n",
       "    </tr>\n",
       "    <tr>\n",
       "      <th>AF_TGP</th>\n",
       "      <td>-7.669213</td>\n",
       "      <td>0.296035</td>\n",
       "      <td>0.171948</td>\n",
       "      <td>0.048897</td>\n",
       "    </tr>\n",
       "    <tr>\n",
       "      <th>ORIGIN</th>\n",
       "      <td>0.386780</td>\n",
       "      <td>0.012311</td>\n",
       "      <td>0.014732</td>\n",
       "      <td>0.025035</td>\n",
       "    </tr>\n",
       "  </tbody>\n",
       "</table>\n",
       "</div>"
      ],
      "text/plain": [
       "                     lr        dt        rf       xgb\n",
       "feature_names                                        \n",
       "POS            0.026378  0.040665  0.106453  0.015141\n",
       "AF_ESP        -5.742910  0.042372  0.037198  0.018364\n",
       "AF_EXAC       -0.773490  0.323234  0.200217  0.024925\n",
       "AF_TGP        -7.669213  0.296035  0.171948  0.048897\n",
       "ORIGIN         0.386780  0.012311  0.014732  0.025035"
      ]
     },
     "execution_count": 17,
     "metadata": {},
     "output_type": "execute_result"
    }
   ],
   "source": [
    "lr_coefs = list(feat_import.iloc[0]['feature_importances'][0])\n",
    "dt_import = list(feat_import.iloc[1]['feature_importances'])\n",
    "rf_import =list(feat_import.iloc[2]['feature_importances'])\n",
    "xgb_import =list(feat_import.iloc[3]['feature_importances'])\n",
    "importances = pd.DataFrame({'feature_names': feature_names, 'lr': lr_coefs, 'dt': dt_import, 'rf': rf_import, 'xgb': xgb_import}).set_index('feature_names')\n",
    "importances.head()"
   ]
  },
  {
   "cell_type": "code",
   "execution_count": 18,
   "metadata": {},
   "outputs": [
    {
     "data": {
      "text/html": [
       "<div>\n",
       "<style scoped>\n",
       "    .dataframe tbody tr th:only-of-type {\n",
       "        vertical-align: middle;\n",
       "    }\n",
       "\n",
       "    .dataframe tbody tr th {\n",
       "        vertical-align: top;\n",
       "    }\n",
       "\n",
       "    .dataframe thead th {\n",
       "        text-align: right;\n",
       "    }\n",
       "</style>\n",
       "<table border=\"1\" class=\"dataframe\">\n",
       "  <thead>\n",
       "    <tr style=\"text-align: right;\">\n",
       "      <th></th>\n",
       "      <th>lr</th>\n",
       "      <th>dt</th>\n",
       "      <th>rf</th>\n",
       "      <th>xgb</th>\n",
       "    </tr>\n",
       "    <tr>\n",
       "      <th>feature_names</th>\n",
       "      <th></th>\n",
       "      <th></th>\n",
       "      <th></th>\n",
       "      <th></th>\n",
       "    </tr>\n",
       "  </thead>\n",
       "  <tbody>\n",
       "    <tr>\n",
       "      <th>AF_TGP</th>\n",
       "      <td>-7.669213</td>\n",
       "      <td>0.296035</td>\n",
       "      <td>0.171948</td>\n",
       "      <td>0.048897</td>\n",
       "    </tr>\n",
       "    <tr>\n",
       "      <th>CADD_RAW</th>\n",
       "      <td>-7.251548</td>\n",
       "      <td>0.093160</td>\n",
       "      <td>0.091358</td>\n",
       "      <td>0.015820</td>\n",
       "    </tr>\n",
       "    <tr>\n",
       "      <th>AF_ESP</th>\n",
       "      <td>-5.742910</td>\n",
       "      <td>0.042372</td>\n",
       "      <td>0.037198</td>\n",
       "      <td>0.018364</td>\n",
       "    </tr>\n",
       "    <tr>\n",
       "      <th>CADD_PHRED</th>\n",
       "      <td>1.294314</td>\n",
       "      <td>0.014787</td>\n",
       "      <td>0.041764</td>\n",
       "      <td>0.014419</td>\n",
       "    </tr>\n",
       "    <tr>\n",
       "      <th>CLNVC_Microsatellite</th>\n",
       "      <td>0.818345</td>\n",
       "      <td>0.000000</td>\n",
       "      <td>0.000018</td>\n",
       "      <td>0.002788</td>\n",
       "    </tr>\n",
       "  </tbody>\n",
       "</table>\n",
       "</div>"
      ],
      "text/plain": [
       "                            lr        dt        rf       xgb\n",
       "feature_names                                               \n",
       "AF_TGP               -7.669213  0.296035  0.171948  0.048897\n",
       "CADD_RAW             -7.251548  0.093160  0.091358  0.015820\n",
       "AF_ESP               -5.742910  0.042372  0.037198  0.018364\n",
       "CADD_PHRED            1.294314  0.014787  0.041764  0.014419\n",
       "CLNVC_Microsatellite  0.818345  0.000000  0.000018  0.002788"
      ]
     },
     "execution_count": 18,
     "metadata": {},
     "output_type": "execute_result"
    }
   ],
   "source": [
    "lr_ranked = importances.iloc[(-np.abs(importances['lr'].values)).argsort()]\n",
    "lr_ranked.head()"
   ]
  },
  {
   "cell_type": "code",
   "execution_count": 19,
   "metadata": {},
   "outputs": [
    {
     "data": {
      "text/plain": [
       "<matplotlib.axes._subplots.AxesSubplot at 0x7f0231294860>"
      ]
     },
     "execution_count": 19,
     "metadata": {},
     "output_type": "execute_result"
    },
    {
     "data": {
      "image/png": "[encoded data removed]",
      "text/plain": [
       "<Figure size 432x288 with 1 Axes>"
      ]
     },
     "metadata": {
      "needs_background": "light"
     },
     "output_type": "display_data"
    }
   ],
   "source": [
    "lr_ranked[0:5].plot(kind='bar')"
   ]
  },
  {
   "cell_type": "code",
   "execution_count": 20,
   "metadata": {
    "scrolled": true
   },
   "outputs": [
    {
     "data": {
      "text/html": [
       "<div>\n",
       "<style scoped>\n",
       "    .dataframe tbody tr th:only-of-type {\n",
       "        vertical-align: middle;\n",
       "    }\n",
       "\n",
       "    .dataframe tbody tr th {\n",
       "        vertical-align: top;\n",
       "    }\n",
       "\n",
       "    .dataframe thead th {\n",
       "        text-align: right;\n",
       "    }\n",
       "</style>\n",
       "<table border=\"1\" class=\"dataframe\">\n",
       "  <thead>\n",
       "    <tr style=\"text-align: right;\">\n",
       "      <th></th>\n",
       "      <th>lr</th>\n",
       "      <th>dt</th>\n",
       "      <th>rf</th>\n",
       "      <th>xgb</th>\n",
       "    </tr>\n",
       "    <tr>\n",
       "      <th>feature_names</th>\n",
       "      <th></th>\n",
       "      <th></th>\n",
       "      <th></th>\n",
       "      <th></th>\n",
       "    </tr>\n",
       "  </thead>\n",
       "  <tbody>\n",
       "    <tr>\n",
       "      <th>AF_EXAC</th>\n",
       "      <td>-0.773490</td>\n",
       "      <td>0.323234</td>\n",
       "      <td>0.200217</td>\n",
       "      <td>0.024925</td>\n",
       "    </tr>\n",
       "    <tr>\n",
       "      <th>AF_TGP</th>\n",
       "      <td>-7.669213</td>\n",
       "      <td>0.296035</td>\n",
       "      <td>0.171948</td>\n",
       "      <td>0.048897</td>\n",
       "    </tr>\n",
       "    <tr>\n",
       "      <th>CADD_RAW</th>\n",
       "      <td>-7.251548</td>\n",
       "      <td>0.093160</td>\n",
       "      <td>0.091358</td>\n",
       "      <td>0.015820</td>\n",
       "    </tr>\n",
       "    <tr>\n",
       "      <th>LoFtool</th>\n",
       "      <td>0.047829</td>\n",
       "      <td>0.075196</td>\n",
       "      <td>0.096302</td>\n",
       "      <td>0.018814</td>\n",
       "    </tr>\n",
       "    <tr>\n",
       "      <th>AF_ESP</th>\n",
       "      <td>-5.742910</td>\n",
       "      <td>0.042372</td>\n",
       "      <td>0.037198</td>\n",
       "      <td>0.018364</td>\n",
       "    </tr>\n",
       "  </tbody>\n",
       "</table>\n",
       "</div>"
      ],
      "text/plain": [
       "                     lr        dt        rf       xgb\n",
       "feature_names                                        \n",
       "AF_EXAC       -0.773490  0.323234  0.200217  0.024925\n",
       "AF_TGP        -7.669213  0.296035  0.171948  0.048897\n",
       "CADD_RAW      -7.251548  0.093160  0.091358  0.015820\n",
       "LoFtool        0.047829  0.075196  0.096302  0.018814\n",
       "AF_ESP        -5.742910  0.042372  0.037198  0.018364"
      ]
     },
     "execution_count": 20,
     "metadata": {},
     "output_type": "execute_result"
    }
   ],
   "source": [
    "dt_ranked = importances.iloc[(-np.abs(importances['dt'].values)).argsort()]\n",
    "dt_ranked.head()"
   ]
  },
  {
   "cell_type": "code",
   "execution_count": 21,
   "metadata": {},
   "outputs": [
    {
     "data": {
      "text/plain": [
       "<matplotlib.axes._subplots.AxesSubplot at 0x7f02314bb5f8>"
      ]
     },
     "execution_count": 21,
     "metadata": {},
     "output_type": "execute_result"
    },
    {
     "data": {
      "image/png": "[encoded data removed]",
      "text/plain": [
       "<Figure size 432x288 with 1 Axes>"
      ]
     },
     "metadata": {
      "needs_background": "light"
     },
     "output_type": "display_data"
    }
   ],
   "source": [
    "dt_ranked[0:5].plot(kind='bar')"
   ]
  },
  {
   "cell_type": "code",
   "execution_count": 22,
   "metadata": {},
   "outputs": [
    {
     "data": {
      "text/html": [
       "<div>\n",
       "<style scoped>\n",
       "    .dataframe tbody tr th:only-of-type {\n",
       "        vertical-align: middle;\n",
       "    }\n",
       "\n",
       "    .dataframe tbody tr th {\n",
       "        vertical-align: top;\n",
       "    }\n",
       "\n",
       "    .dataframe thead th {\n",
       "        text-align: right;\n",
       "    }\n",
       "</style>\n",
       "<table border=\"1\" class=\"dataframe\">\n",
       "  <thead>\n",
       "    <tr style=\"text-align: right;\">\n",
       "      <th></th>\n",
       "      <th>lr</th>\n",
       "      <th>dt</th>\n",
       "      <th>rf</th>\n",
       "      <th>xgb</th>\n",
       "    </tr>\n",
       "    <tr>\n",
       "      <th>feature_names</th>\n",
       "      <th></th>\n",
       "      <th></th>\n",
       "      <th></th>\n",
       "      <th></th>\n",
       "    </tr>\n",
       "  </thead>\n",
       "  <tbody>\n",
       "    <tr>\n",
       "      <th>AF_EXAC</th>\n",
       "      <td>-0.773490</td>\n",
       "      <td>0.323234</td>\n",
       "      <td>0.200217</td>\n",
       "      <td>0.024925</td>\n",
       "    </tr>\n",
       "    <tr>\n",
       "      <th>AF_TGP</th>\n",
       "      <td>-7.669213</td>\n",
       "      <td>0.296035</td>\n",
       "      <td>0.171948</td>\n",
       "      <td>0.048897</td>\n",
       "    </tr>\n",
       "    <tr>\n",
       "      <th>POS</th>\n",
       "      <td>0.026378</td>\n",
       "      <td>0.040665</td>\n",
       "      <td>0.106453</td>\n",
       "      <td>0.015141</td>\n",
       "    </tr>\n",
       "    <tr>\n",
       "      <th>LoFtool</th>\n",
       "      <td>0.047829</td>\n",
       "      <td>0.075196</td>\n",
       "      <td>0.096302</td>\n",
       "      <td>0.018814</td>\n",
       "    </tr>\n",
       "    <tr>\n",
       "      <th>CADD_RAW</th>\n",
       "      <td>-7.251548</td>\n",
       "      <td>0.093160</td>\n",
       "      <td>0.091358</td>\n",
       "      <td>0.015820</td>\n",
       "    </tr>\n",
       "  </tbody>\n",
       "</table>\n",
       "</div>"
      ],
      "text/plain": [
       "                     lr        dt        rf       xgb\n",
       "feature_names                                        \n",
       "AF_EXAC       -0.773490  0.323234  0.200217  0.024925\n",
       "AF_TGP        -7.669213  0.296035  0.171948  0.048897\n",
       "POS            0.026378  0.040665  0.106453  0.015141\n",
       "LoFtool        0.047829  0.075196  0.096302  0.018814\n",
       "CADD_RAW      -7.251548  0.093160  0.091358  0.015820"
      ]
     },
     "execution_count": 22,
     "metadata": {},
     "output_type": "execute_result"
    }
   ],
   "source": [
    "rf_ranked = importances.iloc[(-np.abs(importances['rf'].values)).argsort()]\n",
    "rf_ranked.head()"
   ]
  },
  {
   "cell_type": "code",
   "execution_count": 23,
   "metadata": {},
   "outputs": [
    {
     "data": {
      "text/plain": [
       "<matplotlib.axes._subplots.AxesSubplot at 0x7f02306876d8>"
      ]
     },
     "execution_count": 23,
     "metadata": {},
     "output_type": "execute_result"
    },
    {
     "data": {
      "image/png": "[encoded data removed]",
      "text/plain": [
       "<Figure size 432x288 with 1 Axes>"
      ]
     },
     "metadata": {
      "needs_background": "light"
     },
     "output_type": "display_data"
    }
   ],
   "source": [
    "rf_ranked[0:5].plot(kind='bar')"
   ]
  },
  {
   "cell_type": "code",
   "execution_count": 24,
   "metadata": {},
   "outputs": [
    {
     "data": {
      "text/html": [
       "<div>\n",
       "<style scoped>\n",
       "    .dataframe tbody tr th:only-of-type {\n",
       "        vertical-align: middle;\n",
       "    }\n",
       "\n",
       "    .dataframe tbody tr th {\n",
       "        vertical-align: top;\n",
       "    }\n",
       "\n",
       "    .dataframe thead th {\n",
       "        text-align: right;\n",
       "    }\n",
       "</style>\n",
       "<table border=\"1\" class=\"dataframe\">\n",
       "  <thead>\n",
       "    <tr style=\"text-align: right;\">\n",
       "      <th></th>\n",
       "      <th>lr</th>\n",
       "      <th>dt</th>\n",
       "      <th>rf</th>\n",
       "      <th>xgb</th>\n",
       "    </tr>\n",
       "    <tr>\n",
       "      <th>feature_names</th>\n",
       "      <th></th>\n",
       "      <th></th>\n",
       "      <th></th>\n",
       "      <th></th>\n",
       "    </tr>\n",
       "  </thead>\n",
       "  <tbody>\n",
       "    <tr>\n",
       "      <th>AF_TGP</th>\n",
       "      <td>-7.669213</td>\n",
       "      <td>0.296035</td>\n",
       "      <td>0.171948</td>\n",
       "      <td>0.048897</td>\n",
       "    </tr>\n",
       "    <tr>\n",
       "      <th>CHROM_13</th>\n",
       "      <td>0.125519</td>\n",
       "      <td>0.005553</td>\n",
       "      <td>0.003264</td>\n",
       "      <td>0.032134</td>\n",
       "    </tr>\n",
       "    <tr>\n",
       "      <th>CHROM_19</th>\n",
       "      <td>-0.100527</td>\n",
       "      <td>0.000890</td>\n",
       "      <td>0.003570</td>\n",
       "      <td>0.027166</td>\n",
       "    </tr>\n",
       "    <tr>\n",
       "      <th>CLNVC_Duplication</th>\n",
       "      <td>0.003800</td>\n",
       "      <td>0.000000</td>\n",
       "      <td>0.001252</td>\n",
       "      <td>0.025609</td>\n",
       "    </tr>\n",
       "    <tr>\n",
       "      <th>CLNVC_Deletion</th>\n",
       "      <td>-0.129738</td>\n",
       "      <td>0.004101</td>\n",
       "      <td>0.001964</td>\n",
       "      <td>0.025152</td>\n",
       "    </tr>\n",
       "  </tbody>\n",
       "</table>\n",
       "</div>"
      ],
      "text/plain": [
       "                         lr        dt        rf       xgb\n",
       "feature_names                                            \n",
       "AF_TGP            -7.669213  0.296035  0.171948  0.048897\n",
       "CHROM_13           0.125519  0.005553  0.003264  0.032134\n",
       "CHROM_19          -0.100527  0.000890  0.003570  0.027166\n",
       "CLNVC_Duplication  0.003800  0.000000  0.001252  0.025609\n",
       "CLNVC_Deletion    -0.129738  0.004101  0.001964  0.025152"
      ]
     },
     "execution_count": 24,
     "metadata": {},
     "output_type": "execute_result"
    }
   ],
   "source": [
    "xgb_ranked = importances.iloc[(-np.abs(importances['xgb'].values)).argsort()]\n",
    "xgb_ranked.head()"
   ]
  },
  {
   "cell_type": "code",
   "execution_count": 25,
   "metadata": {},
   "outputs": [
    {
     "data": {
      "text/plain": [
       "<matplotlib.axes._subplots.AxesSubplot at 0x7f023063e160>"
      ]
     },
     "execution_count": 25,
     "metadata": {},
     "output_type": "execute_result"
    },
    {
     "data": {
      "image/png": "[encoded data removed]",
      "text/plain": [
       "<Figure size 432x288 with 1 Axes>"
      ]
     },
     "metadata": {
      "needs_background": "light"
     },
     "output_type": "display_data"
    }
   ],
   "source": [
    "xgb_ranked[0:5].plot(kind='bar')"
   ]
  },
  {
   "cell_type": "code",
   "execution_count": 41,
   "metadata": {},
   "outputs": [
    {
     "data": {
      "image/png": "[encoded data removed]",
      "text/plain": [
       "<Figure size 720x360 with 2 Axes>"
      ]
     },
     "metadata": {
      "needs_background": "light"
     },
     "output_type": "display_data"
    }
   ],
   "source": [
    "plt.figure(figsize=(10,5))\n",
    "_ = sns.heatmap(df3, annot=True, linewidth=0.5)"
   ]
  },
  {
   "cell_type": "code",
   "execution_count": null,
   "metadata": {},
   "outputs": [],
   "source": []
  }
 ],
 "metadata": {
  "kernelspec": {
   "display_name": "Python 3",
   "language": "python",
   "name": "python3"
  },
  "language_info": {
   "codemirror_mode": {
    "name": "ipython",
    "version": 3
   },
   "file_extension": ".py",
   "mimetype": "text/x-python",
   "name": "python",
   "nbconvert_exporter": "python",
   "pygments_lexer": "ipython3",
   "version": "3.7.3"
  }
 },
 "nbformat": 4,
 "nbformat_minor": 2
}
