{
 "cells": [
  {
   "cell_type": "code",
   "execution_count": 57,
   "metadata": {},
   "outputs": [],
   "source": [
    "import pandas as pd\n",
    "import numpy as np\n",
    "import matplotlib.pyplot as plt\n",
    "from scipy.stats import t\n",
    "from scipy.stats import chi2_contingency\n",
    "from scipy.stats import chi2\n",
    "from numpy.random import seed"
   ]
  },
  {
   "cell_type": "markdown",
   "metadata": {},
   "source": [
    "# Question 1: \n",
    "Is there a difference in mean variant location between variants that are consistently classified (class 0) and variants that are conflictingly classified (class 1)?\n",
    "- Null Hypothesis: There is no difference in mean relative location in protein between class 0 and class 1\n",
    "- Alternate Hypothesis: There is a difference in mean relative location in protein between the two classes\n",
    "- Alpha = 0.05\n",
    "\n"
   ]
  },
  {
   "cell_type": "code",
   "execution_count": 4,
   "metadata": {},
   "outputs": [
    {
     "name": "stderr",
     "output_type": "stream",
     "text": [
      "/home/gksullan/anaconda3/lib/python3.7/site-packages/IPython/core/interactiveshell.py:3058: DtypeWarning: Columns (35,37) have mixed types. Specify dtype option on import or set low_memory=False.\n",
      "  interactivity=interactivity, compiler=compiler, result=result)\n"
     ]
    }
   ],
   "source": [
    "df = pd.read_csv('data_cleaned3.csv')"
   ]
  },
  {
   "cell_type": "code",
   "execution_count": 37,
   "metadata": {},
   "outputs": [],
   "source": [
    "# Split the dataframe into two groups, one for each Class\n",
    "class0 = df[df.CLASS == 0]\n",
    "class1 = df[df.CLASS == 1]"
   ]
  },
  {
   "cell_type": "code",
   "execution_count": 30,
   "metadata": {},
   "outputs": [
    {
     "name": "stdout",
     "output_type": "stream",
     "text": [
      "pvalue: 0.035\n",
      "mean of Relative Location CLASS 0: 0.791\n",
      "mean of Relative Location CLASS 1: 0.812\n"
     ]
    }
   ],
   "source": [
    "# calculate the observed means of the two groups and perform a t test not assuming variance is equal\n",
    "mean_class0 = np.mean(class0.Relative_Location)\n",
    "mean_class1 = np.mean(class1.Relative_Location)\n",
    "tval = scipy.stats.ttest_ind(class0.Relative_Location, class1.Relative_Location, equal_var=False)\n",
    "print(f'pvalue: {tval.pvalue:.3f}')\n",
    "print(f'mean of Relative Location CLASS 0: {mean_class0:.3f}')\n",
    "print(f'mean of Relative Location CLASS 1: {mean_class1:.3f}')"
   ]
  },
  {
   "cell_type": "markdown",
   "metadata": {},
   "source": [
    "Since the p value is below the threshold of 0.05, I will reject the null hypothesis that the mean relative locations are the same between the two groups. "
   ]
  },
  {
   "cell_type": "code",
   "execution_count": 35,
   "metadata": {},
   "outputs": [
    {
     "data": {
      "image/png": "[encoded data removed]",
      "text/plain": [
       "<Figure size 432x288 with 1 Axes>"
      ]
     },
     "metadata": {
      "needs_background": "light"
     },
     "output_type": "display_data"
    }
   ],
   "source": [
    "# Visualize the distribution of relative location\n",
    "x0 = class0['Relative_Location']\n",
    "x1 = class1['Relative_Location']\n",
    "\n",
    "plt.hist(x0, alpha=0.4, bins=50, color='green', density=True, stacked=True, label='CLASS 0: Consistent')\n",
    "plt.hist(x1, alpha=0.4, bins=50, color='red', density=True, stacked=True, label='CLASS 1: Conflicting')\n",
    "\n",
    "plt.legend();"
   ]
  },
  {
   "cell_type": "markdown",
   "metadata": {},
   "source": [
    "# Question 2: Are Indels or SNPs (or any other type of variant) more prone to conflicting classification compared to other types of variants?\n",
    "- Null Hypothesis: There is no difference in classification between different types of variants (i.e. indels/SNPs)\n",
    "- Alternate Hypothesis: There is a difference in classification between different groups of variants\n",
    "- Alpha = 0.05\n"
   ]
  },
  {
   "cell_type": "code",
   "execution_count": 61,
   "metadata": {},
   "outputs": [
    {
     "data": {
      "text/html": [
       "<div>\n",
       "<style scoped>\n",
       "    .dataframe tbody tr th:only-of-type {\n",
       "        vertical-align: middle;\n",
       "    }\n",
       "\n",
       "    .dataframe tbody tr th {\n",
       "        vertical-align: top;\n",
       "    }\n",
       "\n",
       "    .dataframe thead th {\n",
       "        text-align: right;\n",
       "    }\n",
       "</style>\n",
       "<table border=\"1\" class=\"dataframe\">\n",
       "  <thead>\n",
       "    <tr style=\"text-align: right;\">\n",
       "      <th></th>\n",
       "      <th>CLNVC_Deletion</th>\n",
       "      <th>CLNVC_Duplication</th>\n",
       "      <th>CLNVC_Indel</th>\n",
       "      <th>CLNVC_Insertion</th>\n",
       "      <th>CLNVC_Inversion</th>\n",
       "      <th>CLNVC_Microsatellite</th>\n",
       "      <th>CLNVC_single_nucleotide_variant</th>\n",
       "    </tr>\n",
       "    <tr>\n",
       "      <th>CLASS</th>\n",
       "      <th></th>\n",
       "      <th></th>\n",
       "      <th></th>\n",
       "      <th></th>\n",
       "      <th></th>\n",
       "      <th></th>\n",
       "      <th></th>\n",
       "    </tr>\n",
       "  </thead>\n",
       "  <tbody>\n",
       "    <tr>\n",
       "      <th>0</th>\n",
       "      <td>2057</td>\n",
       "      <td>816</td>\n",
       "      <td>207</td>\n",
       "      <td>81</td>\n",
       "      <td>13</td>\n",
       "      <td>2</td>\n",
       "      <td>45578</td>\n",
       "    </tr>\n",
       "    <tr>\n",
       "      <th>1</th>\n",
       "      <td>452</td>\n",
       "      <td>218</td>\n",
       "      <td>40</td>\n",
       "      <td>14</td>\n",
       "      <td>4</td>\n",
       "      <td>3</td>\n",
       "      <td>15703</td>\n",
       "    </tr>\n",
       "  </tbody>\n",
       "</table>\n",
       "</div>"
      ],
      "text/plain": [
       "       CLNVC_Deletion  CLNVC_Duplication  CLNVC_Indel  CLNVC_Insertion  \\\n",
       "CLASS                                                                    \n",
       "0                2057                816          207               81   \n",
       "1                 452                218           40               14   \n",
       "\n",
       "       CLNVC_Inversion  CLNVC_Microsatellite  CLNVC_single_nucleotide_variant  \n",
       "CLASS                                                                          \n",
       "0                   13                     2                            45578  \n",
       "1                    4                     3                            15703  "
      ]
     },
     "execution_count": 61,
     "metadata": {},
     "output_type": "execute_result"
    }
   ],
   "source": [
    "# Build a contigency table, with variant types as column names and Class as row labels\n",
    "cont_table = df[['CLNVC_Deletion', 'CLNVC_Duplication', 'CLNVC_Indel', 'CLNVC_Insertion', \n",
    "            'CLNVC_Inversion', 'CLNVC_Microsatellite', 'CLNVC_single_nucleotide_variant','CLASS']].groupby('CLASS').sum()\n",
    "cont_table.head()"
   ]
  },
  {
   "cell_type": "code",
   "execution_count": 50,
   "metadata": {},
   "outputs": [],
   "source": [
    "# convert the dataframe to an array \n",
    "cont_table = cont_table.to_numpy()"
   ]
  },
  {
   "cell_type": "code",
   "execution_count": 58,
   "metadata": {},
   "outputs": [],
   "source": [
    "# perform the chi2 test on the contingency table and \n",
    "# calculate the critical value using the prob = 0.95 as our criteria\n",
    "stat, p, dof, expected = chi2_contingency(cont_table)\n",
    "prob = 0.95\n",
    "critical = chi2.ppf(prob, dof)"
   ]
  },
  {
   "cell_type": "code",
   "execution_count": 60,
   "metadata": {},
   "outputs": [
    {
     "name": "stdout",
     "output_type": "stream",
     "text": [
      "dof: 6\n",
      "stat: 103.22131279923022\n",
      "critical: 12.591587243743977\n",
      "pvalue: 5.3339757870570785e-20\n"
     ]
    }
   ],
   "source": [
    "# print results of chi2 test\n",
    "print(f'dof: {dof}')\n",
    "print(f'stat: {stat}')\n",
    "print(f'critical: {critical}')\n",
    "print(f'pvalue: {p}')"
   ]
  },
  {
   "cell_type": "markdown",
   "metadata": {},
   "source": [
    "- Since the statistic was >= the critical value, we can reject the Null hypothesis and conclude that there is a difference in Classification across the different groups\n",
    "- We can also look at the p value, which is less than alpha=0.05 to reject the null"
   ]
  },
  {
   "cell_type": "code",
   "execution_count": null,
   "metadata": {},
   "outputs": [],
   "source": []
  }
 ],
 "metadata": {
  "kernelspec": {
   "display_name": "Python 3",
   "language": "python",
   "name": "python3"
  },
  "language_info": {
   "codemirror_mode": {
    "name": "ipython",
    "version": 3
   },
   "file_extension": ".py",
   "mimetype": "text/x-python",
   "name": "python",
   "nbconvert_exporter": "python",
   "pygments_lexer": "ipython3",
   "version": "3.7.3"
  }
 },
 "nbformat": 4,
 "nbformat_minor": 2
}
